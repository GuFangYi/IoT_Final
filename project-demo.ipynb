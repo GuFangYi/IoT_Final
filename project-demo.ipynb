{
 "cells": [
  {
   "cell_type": "code",
   "execution_count": 1,
   "id": "96d9d91e-2ec1-42fe-81b5-cbbee916926f",
   "metadata": {},
   "outputs": [],
   "source": [
    "import requests, base64, time, json, random"
   ]
  },
  {
   "cell_type": "code",
   "execution_count": 2,
   "id": "9e7342ee-3047-4d55-a651-b001601732ff",
   "metadata": {},
   "outputs": [],
   "source": [
    "OM2M_URL = \"http://127.0.0.1:8282/~\"\n",
    "CSE_ID = \"/mn-cse/\"\n",
    "CSE_NAME = \"mn-name\"\n",
    "LOGIN=\"admin\"\n",
    "PSWD=\"admin\"\n",
    "OM2M_BASE = OM2M_URL+CSE_ID\n",
    "auth_headers = {\"X-M2M-ORIGIN\":LOGIN+\":\"+PSWD}\n",
    "# The other accepted value is application/xml\n",
    "common_headers = {\"Accept\": \"application/json\"}"
   ]
  },
  {
   "cell_type": "code",
   "execution_count": 3,
   "id": "2f90cc9c-6bd1-43e5-9829-a4d19abd8fa3",
   "metadata": {},
   "outputs": [],
   "source": [
    "def create_AE(name,api=\"attack\"):\n",
    "    header_ae = {\"Content-Type\":\"application/xml;ty=2\"}\n",
    "    name_ae = name\n",
    "    body_ae = \"\"\"\n",
    "    <m2m:ae xmlns:m2m=\"http://www.onem2m.org/xml/protocols\" rn=\"{0}\">\n",
    "        <api>{1}</api>\n",
    "        <lbl>Type/{1} Category/temperature Location/home</lbl>\n",
    "        <rr>false</rr>\n",
    "    </m2m:ae>\n",
    "    \"\"\".format(name_ae,api)\n",
    "    response = requests.delete(OM2M_BASE+CSE_NAME+\"/\"+name_ae, headers={**auth_headers, **common_headers})\n",
    "    print(response)\n",
    "    response = requests.post(OM2M_BASE, data=body_ae, headers={**auth_headers, **common_headers, **header_ae})\n",
    "    print(response)\n",
    "def create_CNT(name_ae, name_cnt):\n",
    "    header_cnt = {\"Content-Type\":\"application/xml;ty=3\"}\n",
    "    body_cnt = \"\"\"<m2m:cnt xmlns:m2m=\"http://www.onem2m.org/xml/protocols\" rn=\"{0}\"></m2m:cnt>\"\"\".format(name_cnt)\n",
    "    print(body_cnt)\n",
    "    response = requests.post(OM2M_BASE+CSE_NAME+\"/\"+name_ae, data=body_cnt, headers={**auth_headers, **common_headers, **header_cnt})\n",
    "    print(response)\n",
    "\n",
    "def attack(name_ae, name_cnt, mode, name, om2m_base=OM2M_BASE, cse_name=CSE_NAME):\n",
    "    header_cin = {\"Content-Type\":\"application/xml;ty=4\"}\n",
    "    body_cin = \"\"\"<m2m:cin xmlns:m2m=\"http://www.onem2m.org/xml/protocols\"><cnf>{0}</cnf><con>{1}</con></m2m:cin>\"\"\".format(mode, name)\n",
    "    response = requests.post(om2m_base+cse_name+\"/\"+name_ae+\"/\"+name_cnt, data=body_cin, headers={**auth_headers, **common_headers, **header_cin})\n",
    "    print(response)"
   ]
  },
  {
   "cell_type": "code",
   "execution_count": 4,
   "id": "4d053ed6-897d-4352-a838-3e36a99e0a77",
   "metadata": {},
   "outputs": [],
   "source": [
    "def get_AE(name):\n",
    "    header_ae = {\"Content-Type\":\"application/xml;ty=2\"}\n",
    "    name_ae = name\n",
    "    response = requests.get(OM2M_BASE+CSE_NAME+\"/\"+name_ae, headers={**auth_headers, **common_headers})\n",
    "    return response.json()\n",
    "def get_CNT(name_ae, name_cnt):\n",
    "    header_cnt = {\"Content-Type\":\"application/xml;ty=3\"}\n",
    "    response = requests.get(OM2M_BASE+CSE_NAME+\"/\"+name_ae, headers={**auth_headers, **common_headers, **header_cnt})\n",
    "    return response.json()\n",
    "def get_CIN(name_ae, name_cnt):\n",
    "    header_cin = {\"Content-Type\":\"application/xml;ty=4\"}\n",
    "    response = requests.get(OM2M_BASE+CSE_NAME+\"/\"+name_ae+\"/\"+name_cnt+\"/la\", headers={**auth_headers, **common_headers, **header_cin})\n",
    "    return response"
   ]
  },
  {
   "cell_type": "code",
   "execution_count": 5,
   "id": "86ad597a-e4a2-45f7-84be-500dde945ab1",
   "metadata": {
    "scrolled": true
   },
   "outputs": [
    {
     "name": "stdout",
     "output_type": "stream",
     "text": [
      "<Response [404]>\n",
      "<Response [201]>\n",
      "<m2m:cnt xmlns:m2m=\"http://www.onem2m.org/xml/protocols\" rn=\"monitor_cnt\"></m2m:cnt>\n",
      "<Response [201]>\n"
     ]
    }
   ],
   "source": [
    "AE_name = \"monitor_ae\"\n",
    "CNT_name = \"monitor_cnt\"\n",
    "create_AE(AE_name,\"monitor\")\n",
    "time.sleep(2)\n",
    "create_CNT(AE_name,CNT_name)"
   ]
  },
  {
   "cell_type": "code",
   "execution_count": 6,
   "id": "f5973031-7a07-48c1-96d5-cf53b660e147",
   "metadata": {},
   "outputs": [
    {
     "name": "stdout",
     "output_type": "stream",
     "text": [
      "<Response [201]>\n",
      "<Response [201]>\n"
     ]
    }
   ],
   "source": [
    "for i in range(2):\n",
    "    attack(AE_name, CNT_name, \"post_ae\", f\"AF_{i}\")\n",
    "    time.sleep(1)"
   ]
  },
  {
   "cell_type": "code",
   "execution_count": 7,
   "id": "9ce13e44-050f-48a1-a281-cf2909e495bb",
   "metadata": {},
   "outputs": [
    {
     "name": "stdout",
     "output_type": "stream",
     "text": [
      "<Response [201]>\n",
      "<Response [201]>\n",
      "<Response [201]>\n"
     ]
    }
   ],
   "source": [
    "for i in range(3):\n",
    "    attack(AE_name, CNT_name, \"post_cnt\", f\"in-name/AF_0/CsF_{i}\")\n",
    "    time.sleep(1)"
   ]
  },
  {
   "cell_type": "code",
   "execution_count": 8,
   "id": "9ea67f93-b521-48e2-b58c-96723b7029dd",
   "metadata": {},
   "outputs": [
    {
     "name": "stdout",
     "output_type": "stream",
     "text": [
      "<Response [201]>\n",
      "<Response [201]>\n",
      "<Response [201]>\n",
      "<Response [201]>\n"
     ]
    }
   ],
   "source": [
    "for i in range(4):\n",
    "    attack(AE_name, CNT_name, \"post_cin\", f\"in-name/AF_0/CsF_0/CIF_{i}\")\n",
    "    time.sleep(1)"
   ]
  },
  {
   "cell_type": "code",
   "execution_count": 9,
   "id": "3c364a6d-efc5-4cb6-aa38-fd9ed4dcd53a",
   "metadata": {},
   "outputs": [
    {
     "name": "stdout",
     "output_type": "stream",
     "text": [
      "<Response [201]>\n",
      "<Response [201]>\n",
      "<Response [201]>\n"
     ]
    }
   ],
   "source": [
    "for i in range(3):\n",
    "    attack(AE_name, CNT_name, \"post_sub\", f\"/in-cse/in-name/AF_0/CsF_0/SUB_CNT_{i}\")\n",
    "    time.sleep(1)"
   ]
  },
  {
   "cell_type": "code",
   "execution_count": null,
   "id": "f532affd-3a8b-45e1-889c-e8ef76a4bb4a",
   "metadata": {},
   "outputs": [],
   "source": [
    "for i in range(2):\n",
    "    attack(AE_name, CNT_name, \"post_sub\", f\"/in-cse/in-name/AF_0/SUB_AE_{i}\")\n",
    "    time.sleep(1)"
   ]
  },
  {
   "cell_type": "code",
   "execution_count": 10,
   "id": "b51c0ad9-0570-48f3-9446-bc348e65dbe7",
   "metadata": {},
   "outputs": [
    {
     "name": "stdout",
     "output_type": "stream",
     "text": [
      "<Response [201]>\n",
      "<Response [201]>\n"
     ]
    }
   ],
   "source": [
    "for i in range(2):\n",
    "    attack(AE_name, CNT_name, \"get_cin\", \"in-name/AE_0/CsF_0/la\")\n",
    "    time.sleep(1)"
   ]
  },
  {
   "cell_type": "code",
   "execution_count": 11,
   "id": "6e4abe4a-6f14-444c-8c50-3f28faa266b1",
   "metadata": {},
   "outputs": [
    {
     "name": "stdout",
     "output_type": "stream",
     "text": [
      "<Response [201]>\n",
      "<Response [201]>\n",
      "<Response [201]>\n"
     ]
    }
   ],
   "source": [
    "for i in range(3):\n",
    "    attack(AE_name, CNT_name, \"get_cnt\", f\"in-name/AE_0/CsF_0\")\n",
    "    time.sleep(1)"
   ]
  },
  {
   "cell_type": "code",
   "execution_count": 12,
   "id": "9db8b24e-04c7-49e7-a632-0c24a0a78ac2",
   "metadata": {},
   "outputs": [
    {
     "name": "stdout",
     "output_type": "stream",
     "text": [
      "<Response [201]>\n",
      "<Response [201]>\n",
      "<Response [201]>\n",
      "<Response [201]>\n",
      "<Response [201]>\n"
     ]
    }
   ],
   "source": [
    "for i in range(5):\n",
    "    attack(AE_name, CNT_name, \"get_ae\", \"in-name/AE_0\")\n",
    "    time.sleep(1)"
   ]
  },
  {
   "cell_type": "code",
   "execution_count": 13,
   "id": "cec0c108-d3ee-4a3c-a71e-0a0bacfcc112",
   "metadata": {},
   "outputs": [
    {
     "name": "stdout",
     "output_type": "stream",
     "text": [
      "<Response [201]>\n"
     ]
    }
   ],
   "source": [
    "for i in range(1):\n",
    "    attack(AE_name, CNT_name, \"get_sub\", f\"in-name/AF_0/CsF_0/SUB_CNT_{i}\")\n",
    "    time.sleep(1)"
   ]
  },
  {
   "cell_type": "code",
   "execution_count": null,
   "id": "3a92bb06-187f-48e1-8d77-4a4b24b3a1a6",
   "metadata": {},
   "outputs": [],
   "source": []
  }
 ],
 "metadata": {
  "kernelspec": {
   "display_name": "Python 3 (ipykernel)",
   "language": "python",
   "name": "python3"
  },
  "language_info": {
   "codemirror_mode": {
    "name": "ipython",
    "version": 3
   },
   "file_extension": ".py",
   "mimetype": "text/x-python",
   "name": "python",
   "nbconvert_exporter": "python",
   "pygments_lexer": "ipython3",
   "version": "3.8.10"
  }
 },
 "nbformat": 4,
 "nbformat_minor": 5
}
